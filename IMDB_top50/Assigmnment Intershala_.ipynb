{
 "cells": [
  {
   "cell_type": "markdown",
   "id": "778910ac",
   "metadata": {},
   "source": [
    "# IMDB"
   ]
  },
  {
   "cell_type": "code",
   "execution_count": 1,
   "id": "f2a7384d",
   "metadata": {},
   "outputs": [],
   "source": [
    "import selenium\n",
    "from selenium import webdriver\n",
    "import pandas as pd\n",
    "import warnings \n",
    "import time\n",
    "warnings.filterwarnings('ignore')"
   ]
  },
  {
   "cell_type": "code",
   "execution_count": 2,
   "id": "93c7eae0",
   "metadata": {},
   "outputs": [],
   "source": [
    "#Connecting to the webdriver\n",
    "driver = webdriver.Chrome('chromedriver.exe')"
   ]
  },
  {
   "cell_type": "code",
   "execution_count": 3,
   "id": "9f333b32",
   "metadata": {},
   "outputs": [],
   "source": [
    "#Getting the Web Page\n",
    "url = 'https://www.imdb.com/list/ls055386972/'\n",
    "driver.get(url)"
   ]
  },
  {
   "cell_type": "code",
   "execution_count": 4,
   "id": "574ea3dd",
   "metadata": {},
   "outputs": [],
   "source": [
    "driver.maximize_window()"
   ]
  },
  {
   "cell_type": "code",
   "execution_count": 6,
   "id": "9f2827d6",
   "metadata": {},
   "outputs": [],
   "source": [
    "movies = list()\n",
    "movie = driver.find_elements_by_xpath('//div[@class=\"lister-item-content\"]')\n",
    "for i in movie:\n",
    "    movies.append(i.text)"
   ]
  },
  {
   "cell_type": "code",
   "execution_count": 51,
   "id": "8844e522",
   "metadata": {},
   "outputs": [],
   "source": [
    "a = list()\n",
    "for i in movies:\n",
    "    a.append(i.split('\\n'))  "
   ]
  },
  {
   "cell_type": "code",
   "execution_count": 54,
   "id": "42069138",
   "metadata": {},
   "outputs": [
    {
     "data": {
      "text/plain": [
       "['1. The Godfather (1972)',\n",
       " 'R | 175 min | Crime, Drama',\n",
       " '9.2',\n",
       " 'Rate',\n",
       " '100 Metascore',\n",
       " 'The aging patriarch of an organized crime dynasty in postwar New York City transfers control of his clandestine empire to his reluctant youngest son.',\n",
       " 'Director: Francis Ford Coppola | Stars: Marlon Brando, Al Pacino, James Caan, Diane Keaton',\n",
       " 'Votes: 1,847,918 | Gross: $134.97M',\n",
       " 'Watch on Prime Video',\n",
       " 'included with Prime']"
      ]
     },
     "execution_count": 54,
     "metadata": {},
     "output_type": "execute_result"
    }
   ],
   "source": [
    "a[0]"
   ]
  },
  {
   "cell_type": "code",
   "execution_count": 91,
   "id": "326f7042",
   "metadata": {},
   "outputs": [],
   "source": [
    "direc = list()\n",
    "star = list()\n",
    "for i in a:\n",
    "    for j in i:\n",
    "        if 'Director' in j:\n",
    "            direc.append(j.split('|')[0].replace('Director: ',''))\n",
    "            star.append(j.split('|')[1].replace(' Stars: ',''))               "
   ]
  },
  {
   "cell_type": "code",
   "execution_count": 68,
   "id": "5fd5e0ff",
   "metadata": {},
   "outputs": [],
   "source": [
    "name = list()\n",
    "rls = list()\n",
    "\n",
    "for i in movies:\n",
    "    rls.append(i.split('\\n')[0][3:].split('(')[1].replace(')',''))\n",
    "    name.append(i.split('\\n')[0][3:].split('(')[0])"
   ]
  },
  {
   "cell_type": "code",
   "execution_count": 69,
   "id": "b5880f94",
   "metadata": {},
   "outputs": [
    {
     "data": {
      "text/plain": [
       "['The Godfather ',\n",
       " \"Schindler's List \",\n",
       " '12 Angry Men ',\n",
       " 'Life Is Beautiful ',\n",
       " 'The Good, the Bad and the Ugly ',\n",
       " 'The Shawshank Redemption ',\n",
       " 'The Pursuit of Happyness ',\n",
       " 'Seven Samurai ',\n",
       " 'The Intouchables ',\n",
       " ' Central Station ',\n",
       " ' Requiem for a Dream ',\n",
       " ' A Beautiful Mind ',\n",
       " \" Hachi: A Dog's Tale \",\n",
       " ' Taken ',\n",
       " ' My Sassy Girl ',\n",
       " ' Amores perros ',\n",
       " ' The Shining ',\n",
       " ' Apocalypto ',\n",
       " ' Gladiator ',\n",
       " ' Cast Away ',\n",
       " ' The Dark Knight ',\n",
       " ' The Pianist ',\n",
       " ' Titanic ',\n",
       " ' 3-Iron ',\n",
       " ' Braveheart ',\n",
       " \" It's a Wonderful Life \",\n",
       " ' Spring, Summer, Fall, Winter... and Spring ',\n",
       " ' Alien ',\n",
       " ' Memories of Murder ',\n",
       " ' The Return ',\n",
       " ' I Saw the Devil ',\n",
       " ' Children of Heaven ',\n",
       " ' A Separation ',\n",
       " ' The Sixth Sense ',\n",
       " ' A Moment to Remember ',\n",
       " ' Departures ',\n",
       " ' The Road Home ',\n",
       " ' Saving Private Ryan ',\n",
       " ' The Bridge on the River Kwai ',\n",
       " ' Ben-Hur ',\n",
       " ' The Exorcist ',\n",
       " ' The Secret in Their Eyes ',\n",
       " ' Léon: The Professional ',\n",
       " ' The Green Mile ',\n",
       " ' Gran Torino ',\n",
       " ' Kill Bill: Vol. 1 ',\n",
       " ' Jurassic Park ',\n",
       " ' Terminator 2: Judgment Day ',\n",
       " ' Back to the Future ',\n",
       " ' Finding Nemo ']"
      ]
     },
     "execution_count": 69,
     "metadata": {},
     "output_type": "execute_result"
    }
   ],
   "source": [
    "name"
   ]
  },
  {
   "cell_type": "code",
   "execution_count": 99,
   "id": "76c3b4da",
   "metadata": {},
   "outputs": [],
   "source": [
    "IMDB = pd.DataFrame()\n",
    "IMDB['Movie Name'] = name\n",
    "IMDB['Initial Release'] = rls\n",
    "IMDB['Director'] = direc\n",
    "IMDB['Stars'] = star"
   ]
  },
  {
   "cell_type": "code",
   "execution_count": 105,
   "id": "24752869",
   "metadata": {},
   "outputs": [],
   "source": [
    "IMDB.to_csv('IMDB_Top50.csv')"
   ]
  },
  {
   "cell_type": "code",
   "execution_count": null,
   "id": "d67c5c7e",
   "metadata": {},
   "outputs": [],
   "source": []
  }
 ],
 "metadata": {
  "kernelspec": {
   "display_name": "Python 3",
   "language": "python",
   "name": "python3"
  },
  "language_info": {
   "codemirror_mode": {
    "name": "ipython",
    "version": 3
   },
   "file_extension": ".py",
   "mimetype": "text/x-python",
   "name": "python",
   "nbconvert_exporter": "python",
   "pygments_lexer": "ipython3",
   "version": "3.8.8"
  }
 },
 "nbformat": 4,
 "nbformat_minor": 5
}
