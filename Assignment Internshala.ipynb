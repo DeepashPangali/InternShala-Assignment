{
 "cells": [
  {
   "cell_type": "markdown",
   "id": "9a1dfde8",
   "metadata": {},
   "source": [
    "# Flipkart"
   ]
  },
  {
   "cell_type": "code",
   "execution_count": 36,
   "id": "6f2001b4",
   "metadata": {},
   "outputs": [],
   "source": [
    "import selenium\n",
    "from selenium import webdriver\n",
    "import pandas as pd\n",
    "import warnings \n",
    "import time\n",
    "warnings.filterwarnings('ignore')"
   ]
  },
  {
   "cell_type": "code",
   "execution_count": 37,
   "id": "0b6e1071",
   "metadata": {},
   "outputs": [],
   "source": [
    "#Connecting to the webdriver\n",
    "driver = webdriver.Chrome('chromedriver.exe')"
   ]
  },
  {
   "cell_type": "code",
   "execution_count": 38,
   "id": "3c0df1ce",
   "metadata": {},
   "outputs": [],
   "source": [
    "#Getting the Web Page\n",
    "url = 'https://www.flipkart.com/'\n",
    "driver.get(url)"
   ]
  },
  {
   "cell_type": "code",
   "execution_count": 39,
   "id": "0bc1b7ee",
   "metadata": {},
   "outputs": [],
   "source": [
    "#Removing Top up\n",
    "driver.maximize_window()\n",
    "top = driver.find_element_by_xpath(\"/html/body/div[2]/div/div/button\")\n",
    "top.click()"
   ]
  },
  {
   "cell_type": "code",
   "execution_count": 40,
   "id": "368c6f9f",
   "metadata": {},
   "outputs": [],
   "source": [
    "search = driver.find_element_by_xpath('/html/body/div[1]/div/div[1]/div[1]/div[2]/div[2]/form/div/div/input')\n",
    "search.send_keys('Smart Watch')"
   ]
  },
  {
   "cell_type": "code",
   "execution_count": 41,
   "id": "3b53577d",
   "metadata": {},
   "outputs": [],
   "source": [
    "search_btn  = driver.find_element_by_xpath('/html/body/div[1]/div/div[1]/div[1]/div[2]/div[2]/form/div/button')\n",
    "search_btn.click()"
   ]
  },
  {
   "cell_type": "code",
   "execution_count": 43,
   "id": "a75595fe",
   "metadata": {},
   "outputs": [],
   "source": [
    "titles = list()\n",
    "links = list()\n",
    "for j in range(2):\n",
    "    time.sleep(2)\n",
    "    title = driver.find_elements_by_xpath('//a[@class=\"_1fQZEK\"]')\n",
    "    time.sleep(2)\n",
    "    for i in title:\n",
    "        titles.append(i.text)\n",
    "        links.append(i.get_attribute('href'))\n",
    "    if j==0:\n",
    "        Next = driver.find_element_by_xpath('/html/body/div[1]/div/div[3]/div[1]/div[2]/div[26]/div/div/nav/a[11]/span')\n",
    "        time.sleep(2)\n",
    "        Next.click()\n",
    "    else:\n",
    "        break\n"
   ]
  },
  {
   "cell_type": "code",
   "execution_count": 44,
   "id": "1017fede",
   "metadata": {},
   "outputs": [
    {
     "data": {
      "text/plain": [
       "['Add to Compare',\n",
       " 'boAt Storm call 1.69 inch HD display with bluetooth calling and 550 nits brightness Smartwatch',\n",
       " '4.167,200 Ratings & 5,171 Reviews',\n",
       " '1.69inch HD Display|550 Nits Brightness| 2.5D Curved Touch Display',\n",
       " 'Bluetooth Calling & Dialpad(Save upto 10 contacts)| Ultra Slim & Lightweight',\n",
       " '150+ Watch Faces| HR & SpO2 Monitoring',\n",
       " 'IP68: Dust, Sweat & Splash Resistant',\n",
       " 'With Call Function',\n",
       " 'Touchscreen',\n",
       " 'Fitness & Outdoor',\n",
       " 'Battery Runtime: Upto 10 days',\n",
       " '1 Year Warranty from the Date of Purchase',\n",
       " '₹1,999',\n",
       " '₹7,99074% off',\n",
       " 'Free delivery',\n",
       " 'Lowest Price in 15 days',\n",
       " 'Bank Offer']"
      ]
     },
     "execution_count": 44,
     "metadata": {},
     "output_type": "execute_result"
    }
   ],
   "source": [
    "titles[2].split('\\n')"
   ]
  },
  {
   "cell_type": "code",
   "execution_count": 45,
   "id": "ea4dba25",
   "metadata": {},
   "outputs": [],
   "source": [
    "name = list()\n",
    "for i in titles:\n",
    "    a=i.split('\\n')\n",
    "    name.append(a[1])    "
   ]
  },
  {
   "cell_type": "code",
   "execution_count": 46,
   "id": "eb29de43",
   "metadata": {},
   "outputs": [
    {
     "data": {
      "text/plain": [
       "48"
      ]
     },
     "execution_count": 46,
     "metadata": {},
     "output_type": "execute_result"
    }
   ],
   "source": [
    "len(name)"
   ]
  },
  {
   "cell_type": "code",
   "execution_count": 55,
   "id": "bbddb150",
   "metadata": {},
   "outputs": [],
   "source": [
    "rat = list()\n",
    "for i in titles:\n",
    "    a=i.split('\\n')\n",
    "    if 'Ratings' in a[2] and \".\" in a[2]:\n",
    "        rat.append(a[2][:3])\n",
    "    else:\n",
    "        rat.append(\"No ratings\")"
   ]
  },
  {
   "cell_type": "code",
   "execution_count": 48,
   "id": "ee575aad",
   "metadata": {},
   "outputs": [],
   "source": [
    "price = list()\n",
    "for i in titles:\n",
    "    a=i.split('\\n')\n",
    "    if \"%\" in a[-4]:\n",
    "        price.append(a[-5])\n",
    "    else:\n",
    "        price.append(a[-4])"
   ]
  },
  {
   "cell_type": "code",
   "execution_count": 52,
   "id": "3f52f317",
   "metadata": {},
   "outputs": [
    {
     "data": {
      "text/plain": [
       "'https://www.flipkart.com/fastrack-reflex-hello-1-69-hd-display-bt-calling-ai-voice-50-sport-smartwatch/p/itm8337a79c8f621?pid=SMWGHEZRQ34AYMKK&lid=LSTSMWGHEZRQ34AYMKKULQSW3&marketplace=FLIPKART&q=Smart+Watch&store=ajy%2Fbuh&srno=s_1_1&otracker=search&otracker1=search&fm=organic&iid=en_H1zKaXWg2IHLrZWNlVPCmjnrOjsO%2FrDMZ3IKG69%2BBfFgbB0V9v0APpa3zFUV%2BiVY5nMUNDawjmQYMjXyL%2BbhXA%3D%3D&ppt=hp&ppn=homepage&ssid=43fsb7rlbk0000001670042579551&qH=182a0e44af51ce7d'"
      ]
     },
     "execution_count": 52,
     "metadata": {},
     "output_type": "execute_result"
    }
   ],
   "source": [
    "links[0]"
   ]
  },
  {
   "cell_type": "code",
   "execution_count": 73,
   "id": "d746cab7",
   "metadata": {},
   "outputs": [],
   "source": [
    "flipkart = pd.DataFrame()\n",
    "flipkart['Title'] = name\n",
    "flipkart['Ratings'] = rat\n",
    "flipkart['Price'] = price\n",
    "flipkart['Url'] = links"
   ]
  },
  {
   "cell_type": "code",
   "execution_count": 76,
   "id": "16eca299",
   "metadata": {},
   "outputs": [],
   "source": [
    "flipkart.to_csv('flipkart_Data.csv')"
   ]
  },
  {
   "cell_type": "code",
   "execution_count": 74,
   "id": "5490f74d",
   "metadata": {},
   "outputs": [],
   "source": [
    "flipkart['Price'] = flipkart['Price'].apply(lambda x:x.replace('₹',\"\"))"
   ]
  },
  {
   "cell_type": "code",
   "execution_count": null,
   "id": "01ee6d76",
   "metadata": {},
   "outputs": [],
   "source": []
  }
 ],
 "metadata": {
  "kernelspec": {
   "display_name": "Python 3",
   "language": "python",
   "name": "python3"
  },
  "language_info": {
   "codemirror_mode": {
    "name": "ipython",
    "version": 3
   },
   "file_extension": ".py",
   "mimetype": "text/x-python",
   "name": "python",
   "nbconvert_exporter": "python",
   "pygments_lexer": "ipython3",
   "version": "3.8.8"
  }
 },
 "nbformat": 4,
 "nbformat_minor": 5
}
